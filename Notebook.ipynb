{
 "cells": [
  {
   "cell_type": "markdown",
   "id": "a7a8eaa4-30af-4b67-9be9-774c0874ccd8",
   "metadata": {},
   "source": [
    "# What Happens if you Invest $200 Every Month for 12 Years?\n",
    "### *Simulating Dollar Cost Averaging using Python - the Beauty of Compound Return*\n",
    "\n",
    "Imagine that during the last **12 years** you had put aside **$200 every month** in an **investment account**. How much money would that be now?\n",
    "\n",
    "Let's answer this question by building our own **portfolio and backtest tool** using **Python**. We will start by loading some historical data using the  [Yahoo Finance API](https://pypi.org/project/yfinance/), explore and prepare a dataset, and then build a backtesting function to assess if investing those $200 every month using **Dollar Cost Averaging (DCA)** would have been a good idea.\n",
    "\n",
    "The code used in this post is available on my [GitHub](https://github.com/batmaxx/portfolio-backtesting-tool), feel free to clone the project to follow along with the notebook. I tried to put everything in clear and concise functions that you can easily reuse in your program.\n",
    "\n",
    "In the repository, you will also find a ***README.md*** explaining how to set up an environment with all the necessary dependencies."
   ]
  },
  {
   "cell_type": "code",
   "execution_count": null,
   "id": "b94fae52-e3e2-42a1-afc5-1f7df4f81c4c",
   "metadata": {},
   "outputs": [],
   "source": [
    "# load lab_black for easy code formating\n",
    "%load_ext lab_black"
   ]
  },
  {
   "cell_type": "code",
   "execution_count": null,
   "id": "624430c1-f0ab-471d-bc42-e7658d9fb484",
   "metadata": {},
   "outputs": [],
   "source": []
  },
  {
   "cell_type": "markdown",
   "id": "efaf381c-42bf-49d8-a714-0e1ae5f0cb06",
   "metadata": {},
   "source": [
    "## 💽 Load the Data\n",
    "\n",
    "Let's first pick some financial assets we would like to invest in. I will use ETFs instead of specific stocks like Apple or Microsoft to avoid falling into the classical survivor bias trap and getting overly optimistic results.\n",
    "\n",
    "An ETF is a collection of hundreds or thousands of stocks, bonds, or other assets, passively managed and available for trade on major stock exchanges. ETFs are perfect for long-term investing as they have low costs and are well diversified.\n",
    "\n",
    "I will keep it nice and simple and build a portfolio that is using the common split of **80% stocks**, and **20% bonds**. The ticker **SPY** will be used for US stocks, and the ticker **SPAB** will be used for US bonds.\n",
    "\n",
    "I am creating a dictionary with the two ETFs as keys (SPY and SPAB), and their associated portfolio weight as values (80% and 20% respectively)."
   ]
  },
  {
   "cell_type": "code",
   "execution_count": null,
   "id": "8f9e2018-a779-4fdb-81a6-ada765e57aac",
   "metadata": {},
   "outputs": [],
   "source": [
    "# define the tickers and respective weights in portfolio\n",
    "tickers = {\n",
    "    \"SPY\": {\"weight\": 0.8},  # 80% of portfolio\n",
    "    \"SPAB\": {\"weight\": 0.2},  # 20% of portfolio\n",
    "}\n",
    "\n",
    "# define start and end date of backtest period\n",
    "start_date = \"2010-01-01\"\n",
    "end_date = \"2021-12-31\""
   ]
  },
  {
   "cell_type": "markdown",
   "id": "d48d4eef-49d4-4144-b4bd-922c8d18fb04",
   "metadata": {},
   "source": [
    "We will be using the free **Yahoo Finance API** to pull historical prices and load the data into a **Pandas dataframe**, with each column containing the historical prices of the relevant ETF."
   ]
  },
  {
   "cell_type": "code",
   "execution_count": null,
   "id": "28421717-6213-4cc1-8255-74252ecf5c65",
   "metadata": {},
   "outputs": [],
   "source": [
    "import yfinance as yf\n",
    "import pandas as pd\n",
    "\n",
    "\n",
    "def load_data(tickers: dict, start_date: str, end_date: str):\n",
    "    \"\"\"\n",
    "    This function pulls data from the Yahoo finance API into a pandas dataframe\n",
    "    \"\"\"\n",
    "    data = []\n",
    "\n",
    "    for ticker in tickers:\n",
    "        # pull open prices for ticker\n",
    "        df_ticker = yf.Ticker(ticker).history(start=start_date, end=end_date)[[\"Open\"]]\n",
    "\n",
    "        # rename column with ticker name\n",
    "        df_ticker = df_ticker.rename(columns={\"Open\": f\"{ticker}_price\"})\n",
    "\n",
    "        # check if ticker data go back at least from the requested start_date\n",
    "        first_date = df_ticker.index.min()\n",
    "        if pd.to_datetime(start_date) < first_date:\n",
    "            raise ValueError(f\"{ticker} data only available from {first_date}\")\n",
    "\n",
    "        # append ticker data to all data\n",
    "        data.append(df_ticker)\n",
    "\n",
    "    # create dataframe with all tickers\n",
    "    df = pd.concat(data, axis=1)\n",
    "\n",
    "    # round prices to two decimals\n",
    "    df = df.round(2)\n",
    "\n",
    "    return df"
   ]
  },
  {
   "cell_type": "code",
   "execution_count": null,
   "id": "c7f34630-5549-4762-a146-144d3fdb1770",
   "metadata": {},
   "outputs": [],
   "source": [
    "# load the data\n",
    "df_prices = load_data(tickers, start_date, end_date)\n",
    "df_prices"
   ]
  },
  {
   "cell_type": "markdown",
   "id": "dca502c8-62a1-43b3-8a82-32d2fa6c7d33",
   "metadata": {},
   "source": [
    "Let's plot the historical prices of those two ETFs. I am using the **Plotly backend** to make quick interactive plots directly from the Pandas dataframe."
   ]
  },
  {
   "cell_type": "code",
   "execution_count": null,
   "id": "971b86a5-09a4-402e-be4b-07aefa8212cc",
   "metadata": {},
   "outputs": [],
   "source": [
    "import pandas as pd\n",
    "\n",
    "pd.options.plotting.backend = \"plotly\"\n",
    "\n",
    "for ticker in tickers:\n",
    "    fig = df_prices.plot(y=f\"{ticker}_price\")\n",
    "    fig.show()"
   ]
  },
  {
   "cell_type": "markdown",
   "id": "410ef15b-4c39-49de-b34a-f4d05849a1f9",
   "metadata": {},
   "source": [
    "From those plots, we can see that in the last 12 years both the stock and bond US markets have grown quite significantly.\n",
    "\n",
    "Given that the initial starting price of those two ETFs is different, it is hard to compare them over time. One solution for that is to **normalize the prices** by the first price occurrence, as done below."
   ]
  },
  {
   "cell_type": "code",
   "execution_count": null,
   "id": "2ab07375-5429-440c-a57f-867b64b6a8d8",
   "metadata": {},
   "outputs": [],
   "source": [
    "# normalize prices by dividing by first period\n",
    "df_prices_norm = df_prices / df_prices.iloc[0]\n",
    "\n",
    "fig = df_prices_norm.plot()\n",
    "fig.show()"
   ]
  },
  {
   "cell_type": "markdown",
   "id": "4b98439d-565d-484e-831e-5f9e8f155e12",
   "metadata": {},
   "source": [
    "In this plot, we can see the big difference in return between stocks and bonds.\n",
    "\n",
    "We can also compute some basic statistics on the daily return. We can use the function `pct_change()` and `describe()` from Pandas to do that."
   ]
  },
  {
   "cell_type": "code",
   "execution_count": null,
   "id": "f8abde0c-4cc2-4a89-a6a3-6a1b48435863",
   "metadata": {},
   "outputs": [],
   "source": [
    "df_prices_norm.pct_change().describe()"
   ]
  },
  {
   "cell_type": "markdown",
   "id": "13799289-b07b-4534-85ca-6a03a885470c",
   "metadata": {},
   "source": [
    "The mean return of SPY is much higher than the one of SPAB, as is the standard deviation (std).\n",
    "\n",
    "Now that we have historical data, we will continue with some preprocessing before doing the backtesting."
   ]
  },
  {
   "cell_type": "code",
   "execution_count": null,
   "id": "ba7bb1a3-fe8d-43bf-bbe0-cf75bf8e0d32",
   "metadata": {},
   "outputs": [],
   "source": []
  },
  {
   "cell_type": "markdown",
   "id": "ac434241-fd07-4c27-9da0-17797878a22d",
   "metadata": {},
   "source": [
    "## 🕛 Resample the Data\n",
    "\n",
    "To prepare our data for the simulation, we will **resample** them **at day level** so that we have data points for each ticker every day of the year, including weekends. Stocks and ETFs are not traded during weekends but imagine adding some cryptocurrencies to your portfolio, it then becomes important to also have prices on weekends. Doing this will also make the backtesting easier.\n",
    "\n",
    "We can use the `resample()` function from Pandas together with the `fillna()` method using forward fill. The latest price available (let's say on Friday) is then forwarded to the days without prices (Saturday and Sunday)."
   ]
  },
  {
   "cell_type": "code",
   "execution_count": null,
   "id": "296950a0-f4bb-45e0-8a3e-e0fb237cee11",
   "metadata": {},
   "outputs": [],
   "source": [
    "def resample_data(df_prices: pd.DataFrame):\n",
    "    \"\"\"\n",
    "    This functions resamples the data to get prices for all days\n",
    "    \"\"\"\n",
    "    return df_prices.resample(\"1D\").last().fillna(method=\"ffill\")"
   ]
  },
  {
   "cell_type": "code",
   "execution_count": null,
   "id": "e4685bca-bb65-4098-9087-62995d102a8d",
   "metadata": {},
   "outputs": [],
   "source": [
    "# resample prices\n",
    "df_prices = resample_data(df_prices)\n",
    "df_prices.head(10)"
   ]
  },
  {
   "cell_type": "markdown",
   "id": "962f1592-0934-484b-984d-36e944e80857",
   "metadata": {},
   "source": [
    "Now that we have a clean time series for all our tickers, we can continue with the backtesting."
   ]
  },
  {
   "cell_type": "code",
   "execution_count": null,
   "id": "1921e7c3-9798-4368-935e-48c1fd49bb69",
   "metadata": {},
   "outputs": [],
   "source": []
  },
  {
   "cell_type": "markdown",
   "id": "3275176b-3d8a-467f-abe8-bb01cc7b430a",
   "metadata": {},
   "source": [
    "## 🚘 Start the Backtesting\n",
    "\n",
    "***\n",
    "The investment strategy we will simulate is called **Dollar Cost Averaging (DCA)**. DCA is the practice of investing the same amount of money on a regular basis, irrespective of asset prices or market conditions. With DCA, we do not try to time the market, we simply keep investing the same amount for many years and build wealth over time. Like any other investment approach, DCA has many advantages but also some limitations, for more info, you can refer to this [Investopedia page](https://www.investopedia.com/terms/d/dollarcostaveraging.asp).\n",
    "***\n",
    "\n",
    "The goal is to see how our portfolio, composed of 80% stocks and 20% bonds, would have performed over the period 2010 - 2021.\n",
    "\n",
    "This is the most complicated part of this post, I tried to put as many comments as I could to explain the different steps.\n",
    "\n",
    "When looping through all the days of our backtest period, we will **buy more shares** of each ticker every **1st of the month** using the **monthly addition** ($200 in our case). As we do that, we will update the **total amount invested** as well as the **portfolio value** accordingly.\n",
    "\n",
    "Programmatically, I created a dictionary called `record` that will be updated as we go through each day. All records are then concatenated to create the final dataframe containing our portfolio.\n",
    "\n",
    "It's good to note here that we take the **assumption** that we can buy new shares every 1st of the month. As we resampled the data at day level this is not a problem for our backtest, however, in practice, we might not have been able to do that given that the stock market is closed on weekends. We would have to wait for the next opening day to buy. This is something to keep in mind."
   ]
  },
  {
   "cell_type": "code",
   "execution_count": null,
   "id": "01c33ef3-b3d3-405a-8711-af2fa7f2e9d5",
   "metadata": {},
   "outputs": [],
   "source": [
    "from copy import copy\n",
    "\n",
    "\n",
    "def get_number_of_shares(amount: float, price: float, weight: float):\n",
    "    \"\"\"\n",
    "    This function calculates how much shares we can buy given a certain amount, price and weight\n",
    "    \"\"\"\n",
    "    return amount / price * weight\n",
    "\n",
    "\n",
    "def get_portfolio(\n",
    "    tickers: dict,\n",
    "    df_prices: pd.DataFrame,\n",
    "    initial_amount: float,\n",
    "    monthly_addition: float,\n",
    "):\n",
    "    \"\"\"\n",
    "    This function calculates the daily value of the portfolio:\n",
    "        - loop through each day\n",
    "            - if first of the month, then buy more shares using the monthly_addition\n",
    "            - update amount_invested and portfolio_value accordingly\n",
    "    \"\"\"\n",
    "    # check that tickers weights sum up to 1\n",
    "    if sum(d[\"weight\"] for d in tickers.values()) != 1:\n",
    "        raise ValueError(\"tickers weights should sum up to 1\")\n",
    "\n",
    "    # create empty list of records\n",
    "    records = []\n",
    "\n",
    "    # initialize first record with\n",
    "    # - first date\n",
    "    # - first prices available for each tickers\n",
    "    # - first number of shares for each tickers (using initial_amount)\n",
    "    # - first amount invested (initial_amount)\n",
    "    # - first portfolio value (initial_amount)\n",
    "    record = {\n",
    "        \"date\": df_prices.index[0],\n",
    "        **{\n",
    "            f\"{ticker}_price\": df_prices.iloc[0][f\"{ticker}_price\"]\n",
    "            for ticker in tickers\n",
    "        },\n",
    "        # shares\n",
    "        **{\n",
    "            f\"{ticker}_shares\": get_number_of_shares(\n",
    "                amount=initial_amount,\n",
    "                price=df_prices.iloc[0][f\"{ticker}_price\"],\n",
    "                weight=tickers[ticker][\"weight\"],\n",
    "            )\n",
    "            for ticker in tickers\n",
    "        },\n",
    "        \"amount_invested\": initial_amount,\n",
    "        \"portfolio_value\": initial_amount,\n",
    "    }\n",
    "\n",
    "    # loop through all days\n",
    "    for day in df_prices.index:\n",
    "        # update date\n",
    "        record[\"date\"] = day\n",
    "\n",
    "        # update prices\n",
    "        for ticker in tickers:\n",
    "            record[f\"{ticker}_price\"] = df_prices.loc[day][f\"{ticker}_price\"]\n",
    "\n",
    "        # if first day of the month, update number of shares and amount invested\n",
    "        if day.day == 1:\n",
    "            # buy more shares using the monthly addition\n",
    "            for ticker in tickers:\n",
    "                record[f\"{ticker}_shares\"] += get_number_of_shares(\n",
    "                    amount=monthly_addition,\n",
    "                    price=record[f\"{ticker}_price\"],\n",
    "                    weight=tickers[ticker][\"weight\"],\n",
    "                )\n",
    "\n",
    "            # the new amount invested is equal to the previous amount invested plus the monthly addition\n",
    "            record[\"amount_invested\"] += monthly_addition\n",
    "\n",
    "        # update portfolio value, which is equal the number of shares * share price, summed up for every ticker\n",
    "        record[\"portfolio_value\"] = 0\n",
    "        for ticker in tickers:\n",
    "            record[\"portfolio_value\"] += (\n",
    "                record[f\"{ticker}_shares\"] * record[f\"{ticker}_price\"]\n",
    "            )\n",
    "\n",
    "        # append the record with other records\n",
    "        records.append(copy(record))\n",
    "\n",
    "    # create portfolio using all the records\n",
    "    df_porfolio = pd.DataFrame(records).set_index(\"date\")\n",
    "\n",
    "    return df_porfolio"
   ]
  },
  {
   "cell_type": "markdown",
   "id": "c6b0a28a-928a-4db0-ab6f-8ef34f73507c",
   "metadata": {},
   "source": [
    "Let's run this function with an **initial amount of \\$1000** and a **monthly addition of \\$200**."
   ]
  },
  {
   "cell_type": "code",
   "execution_count": null,
   "id": "fa836bbd-162a-4b42-a684-137aa3a88908",
   "metadata": {},
   "outputs": [],
   "source": [
    "initial_amount = 1000\n",
    "monthly_addition = 200\n",
    "\n",
    "df_portfolio = get_portfolio(tickers, df_prices, initial_amount, monthly_addition)\n",
    "df_portfolio"
   ]
  },
  {
   "cell_type": "markdown",
   "id": "4451123b-35cf-47b4-b0c8-bbf3c4c0288b",
   "metadata": {},
   "source": [
    "We now have a nice dataframe with the **daily value of our portfolio**, let's continue with some plots to see how our strategy would have performed."
   ]
  },
  {
   "cell_type": "code",
   "execution_count": null,
   "id": "7172c79c-cf71-4d5b-935b-79c62b01a234",
   "metadata": {},
   "outputs": [],
   "source": []
  },
  {
   "cell_type": "markdown",
   "id": "033cbc46-0f83-4709-9880-452098f072e8",
   "metadata": {},
   "source": [
    "## 💰 Analyze the Results\n",
    "\n",
    "Let's print and plot the **total amount invested** as well as the **final portfolio value** over time to see if investing in those two ETFs would have been a good idea."
   ]
  },
  {
   "cell_type": "code",
   "execution_count": null,
   "id": "ca1c16f4-6e37-4ff4-8c8d-bcafe99bd41a",
   "metadata": {},
   "outputs": [],
   "source": [
    "def print_results(df_portfolio: pd.DataFrame):\n",
    "    \"\"\"\n",
    "    Print total amount invested and portfolio value\n",
    "    \"\"\"\n",
    "    print(\n",
    "        \"Total Amount Invested: ${:0,.2f}\".format(\n",
    "            df_portfolio[\"amount_invested\"].iloc[-1],\n",
    "        )\n",
    "    )\n",
    "    print(\n",
    "        \"Final portfolio value: ${:0,.2f}\".format(\n",
    "            df_portfolio[\"portfolio_value\"].iloc[-1],\n",
    "        )\n",
    "    )"
   ]
  },
  {
   "cell_type": "code",
   "execution_count": null,
   "id": "cf26082b-0b63-4ff3-a028-c93c91a707b3",
   "metadata": {},
   "outputs": [],
   "source": [
    "print_results(df_portfolio)\n",
    "fig = df_portfolio.plot(y=[\"amount_invested\", \"portfolio_value\"])\n",
    "fig.show()"
   ]
  },
  {
   "cell_type": "markdown",
   "id": "27381736-2014-4814-aa5e-fee4df47da8d",
   "metadata": {},
   "source": [
    "**Nice!**  🐷\n",
    "\n",
    "For this specific period, it does seem that investing our money in the stock market would have been a very good idea. With the **\\$29,800** invested in total, **after 12 years** we would have ended up with almost **\\$77,000**. That's more than doubling our money! This is definitely better than having those savings sleeping in the bank.\n",
    "\n",
    "The **compound return effect** is especially important when taking longer time horizons. If you invest like this for **40+ years**, you can easily end up with more than **$1,000,000** in your account!"
   ]
  },
  {
   "cell_type": "code",
   "execution_count": null,
   "id": "6fc10215-c14f-4473-b7cd-96c3031e1d32",
   "metadata": {},
   "outputs": [],
   "source": []
  },
  {
   "cell_type": "markdown",
   "id": "f4ade47d-8c1c-4336-ad2f-5c8ce18a45c5",
   "metadata": {},
   "source": [
    "## 🌯 Wrapping Everything in one Function\n",
    "\n",
    "To make it easy to **re-run** those calculations with different assets, I created one function that runs all the above steps in one go.\n",
    "\n",
    "Feel free to play around with different tickers, initial amount, or monthly addition!"
   ]
  },
  {
   "cell_type": "code",
   "execution_count": null,
   "id": "4a41bec9-e504-4ccd-8350-3e5d703270ff",
   "metadata": {},
   "outputs": [],
   "source": [
    "def simulate_portfolio(\n",
    "    tickers: dict,\n",
    "    start_date: str,\n",
    "    end_date: str,\n",
    "    initial_amount: float,\n",
    "    monthly_addition: float,\n",
    "):\n",
    "    df_prices = load_data(tickers, start_date, end_date)\n",
    "    df_prices = resample_data(df_prices)\n",
    "    df_portfolio = get_portfolio(tickers, df_prices, initial_amount, monthly_addition)\n",
    "    return df_portfolio"
   ]
  },
  {
   "cell_type": "markdown",
   "id": "58f897d6-14d9-459b-9465-f3e41adb302e",
   "metadata": {},
   "source": [
    "For example, let's build **two portfolios**, an **aggressive** one with 90% stocks and 10% bonds, and a more **conservative** one with a 50/50 ratio between stocks and bonds."
   ]
  },
  {
   "cell_type": "code",
   "execution_count": null,
   "id": "82b5b120-f5ee-424d-9e16-1d4caa1fc13c",
   "metadata": {},
   "outputs": [],
   "source": [
    "# portfolio 1: aggresive\n",
    "tickers = {\n",
    "    \"SPY\": {\"weight\": 0.9},\n",
    "    \"SPAB\": {\"weight\": 0.1},\n",
    "}\n",
    "df_portfolio_aggressive = simulate_portfolio(\n",
    "    tickers, start_date, end_date, initial_amount, monthly_addition\n",
    ")\n",
    "\n",
    "# portfolio 2: conservative\n",
    "tickers = {\n",
    "    \"SPY\": {\"weight\": 0.5},\n",
    "    \"SPAB\": {\"weight\": 0.5},\n",
    "}\n",
    "df_portfolio_conservative = simulate_portfolio(\n",
    "    tickers, start_date, end_date, initial_amount, monthly_addition\n",
    ")"
   ]
  },
  {
   "cell_type": "markdown",
   "id": "627ba5da-320c-4b99-a77d-710e17a29047",
   "metadata": {},
   "source": [
    "Let's plot the results."
   ]
  },
  {
   "cell_type": "code",
   "execution_count": null,
   "id": "781a4b89-9bf5-4c52-9a2f-0e0c53e9dddf",
   "metadata": {},
   "outputs": [],
   "source": [
    "import plotly.graph_objects as go\n",
    "\n",
    "print(\"Aggressive\")\n",
    "print_results(df_portfolio_aggressive)\n",
    "print()\n",
    "print(\"Conservative\")\n",
    "print_results(df_portfolio_conservative)\n",
    "\n",
    "fig = go.Figure()\n",
    "fig.add_trace(\n",
    "    go.Line(\n",
    "        x=df_portfolio_aggressive.index,\n",
    "        y=df_portfolio_aggressive[\"portfolio_value\"],\n",
    "        name=\"Aggresive\",\n",
    "    )\n",
    ")\n",
    "fig.add_trace(\n",
    "    go.Line(\n",
    "        x=df_portfolio_conservative.index,\n",
    "        y=df_portfolio_conservative[\"portfolio_value\"],\n",
    "        name=\"Conservative\",\n",
    "    )\n",
    ")\n",
    "fig.show()"
   ]
  },
  {
   "cell_type": "markdown",
   "id": "cf8b2ec1-db6e-438a-9d8d-50ea95ad2bd7",
   "metadata": {},
   "source": [
    "The more aggressive portfolio offers an **extra return** of about **30%** (20K), which is considerable. One thing to note here is that those calculations do not include dividend payments, which would make those numbers higher (especially for the portfolio with more bonds).  \n",
    "\n",
    "Which strategy to pick? This all depends on your **risk aversion** level, **personal objective**, and **time horizon**. Younger people who are OK to invest their money for 20+ years might favor the riskier approach, while people closer to retirement age might want to have a more secure portfolio given that they will need to unlock the money sooner.\n",
    "\n",
    "You could also use portfolio metrics such as Sharpe ratio, Sortino ratio, etc. to determine which portfolio is better in terms of risk/reward."
   ]
  },
  {
   "cell_type": "code",
   "execution_count": null,
   "id": "12c16e62-8eec-458f-92a5-76ab9cd07062",
   "metadata": {},
   "outputs": [],
   "source": []
  },
  {
   "cell_type": "markdown",
   "id": "377c92a8-c72f-4246-b27b-237a6ad6e691",
   "metadata": {},
   "source": [
    "# 😁 Let's Dream For a Bit\n",
    "\n",
    "Let's say you were a crypto fan, and instead of buying bonds, you invested your money into **stocks** and **Bitcoin** in **equal shares**."
   ]
  },
  {
   "cell_type": "code",
   "execution_count": null,
   "id": "b687f983-ffd2-4c13-8c47-dd2e33ac4b39",
   "metadata": {},
   "outputs": [],
   "source": [
    "# set start date to 2015-01-01 as BTC-USD prices are only available from end 2014\n",
    "start_date = \"2015-01-01\"\n",
    "end_date = \"2021-12-31\"\n",
    "\n",
    "tickers = {\n",
    "    \"SPY\": {\"weight\": 0.5},  # 50% stocks\n",
    "    \"BTC-USD\": {\"weight\": 0.5},  # 50% Bitcoin\n",
    "}\n",
    "\n",
    "df_portfolio_crypto = simulate_portfolio(\n",
    "    tickers, start_date, end_date, initial_amount, monthly_addition\n",
    ")"
   ]
  },
  {
   "cell_type": "code",
   "execution_count": null,
   "id": "9c5c0d32-e6c7-488b-8a13-aefb0dab4d18",
   "metadata": {},
   "outputs": [],
   "source": [
    "print_results(df_portfolio_crypto)\n",
    "fig = df_portfolio_crypto.plot(y=[\"amount_invested\", \"portfolio_value\"])\n",
    "fig.show()"
   ]
  },
  {
   "cell_type": "markdown",
   "id": "b7b722ad-b66f-4fc5-95dd-354a7a6c4c8f",
   "metadata": {},
   "source": [
    "In 7 years, your **\\$17,800** invested would have become **\\$467,839**. \n",
    "\n",
    "No comment 🚀\n",
    "\n",
    "Of course, it's easy to look at past data and pick assets that skyrocketed. In practice though, building a strong portfolio with consistent return is much more complicated."
   ]
  },
  {
   "cell_type": "code",
   "execution_count": null,
   "id": "ca53e018-6b49-4c0f-b4f5-919c7e131db6",
   "metadata": {},
   "outputs": [],
   "source": []
  },
  {
   "cell_type": "markdown",
   "id": "8a101d55-f1f8-4d59-82f5-b995b90786a9",
   "metadata": {},
   "source": [
    "# 🔚 Conclusion\n",
    "\n",
    "This is it, in this post we built a **simple portfolio and DCA backtesting framework using Python**. Feel free to play around with different assets, and time horizons or extend the framework with additional functionalities like transaction fees, dividend distribution, rebalancing, inflation-adjusted, or re-investing at different frequencies than monthly.\n",
    "\n",
    "Check out my other articles about **investing** and **Machine Learning** and if you have any questions or remarks, drop a comment, [**BuyMeACoffee**](https://www.buymeacoffee.com/batmaxx) or follow me for more posts like this one!\n",
    "\n",
    "You can also **join me** on the trading platform [**eToro**](https://etoro.tw/3rreCvo), where I use similar techniques including Machine Learning at the core of my investment strategy.\n",
    "\n",
    "\n",
    "---\n",
    "\n",
    "This post contains an affiliate link to the social trading platform [**eToro**](https://etoro.tw/3rreCvo)\n",
    "\n",
    "---"
   ]
  },
  {
   "cell_type": "code",
   "execution_count": null,
   "id": "a48a421f-0659-4bce-9fe0-e7cef0fbd65c",
   "metadata": {},
   "outputs": [],
   "source": []
  }
 ],
 "metadata": {
  "kernelspec": {
   "display_name": "Python 3 (ipykernel)",
   "language": "python",
   "name": "python3"
  },
  "language_info": {
   "codemirror_mode": {
    "name": "ipython",
    "version": 3
   },
   "file_extension": ".py",
   "mimetype": "text/x-python",
   "name": "python",
   "nbconvert_exporter": "python",
   "pygments_lexer": "ipython3",
   "version": "3.9.13"
  }
 },
 "nbformat": 4,
 "nbformat_minor": 5
}
